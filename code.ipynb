{
 "cells": [
  {
   "cell_type": "markdown",
   "id": "b8356a9d",
   "metadata": {},
   "source": [
    "Libraries"
   ]
  },
  {
   "cell_type": "code",
   "execution_count": 59,
   "id": "03358ba4",
   "metadata": {},
   "outputs": [],
   "source": [
    "import pandas as pd\n",
    "from sklearn.model_selection import train_test_split\n",
    "from sklearn.ensemble import RandomForestRegressor\n",
    "from sklearn.metrics import mean_squared_error, mean_absolute_error, r2_score\n",
    "from sklearn.model_selection import RandomizedSearchCV\n",
    "from sklearn.ensemble import RandomForestRegressor\n"
   ]
  },
  {
   "cell_type": "markdown",
   "id": "06ca6fff",
   "metadata": {},
   "source": [
    "Loading the Dataset"
   ]
  },
  {
   "cell_type": "code",
   "execution_count": 60,
   "id": "fe18547e",
   "metadata": {},
   "outputs": [],
   "source": [
    "df = pd.read_csv(\"data.csv\")"
   ]
  },
  {
   "cell_type": "markdown",
   "id": "c26453c4",
   "metadata": {},
   "source": [
    "Pre-processing"
   ]
  },
  {
   "cell_type": "code",
   "execution_count": 61,
   "id": "a4883736",
   "metadata": {},
   "outputs": [],
   "source": [
    "# Drop 'project_id', 1it's just an identifier\n",
    "df = df.drop(columns=[\"project_id\"])"
   ]
  },
  {
   "cell_type": "code",
   "execution_count": 62,
   "id": "a4157ed2",
   "metadata": {},
   "outputs": [],
   "source": [
    "# Separate features and target\n",
    "X = df.drop(columns=[\"success_probability\"])\n",
    "y = df[\"success_probability\"]"
   ]
  },
  {
   "cell_type": "code",
   "execution_count": 63,
   "id": "4d6cefee",
   "metadata": {},
   "outputs": [],
   "source": [
    "# One-Hot Encode categorical variables\n",
    "X_encoded = pd.get_dummies(X, drop_first=False)"
   ]
  },
  {
   "cell_type": "code",
   "execution_count": 64,
   "id": "32a3edb4",
   "metadata": {},
   "outputs": [
    {
     "name": "stdout",
     "output_type": "stream",
     "text": [
      "Original shape: (500, 18)\n",
      "Encoded shape: (500, 45)\n",
      "Encoded feature columns: ['avg_dev_experience', 'pm_experience', 'legacy_system_involved', 'budget_estimation', 'project_complexity_High', 'project_complexity_Low', 'project_complexity_Medium', 'scope_clarity_Clear', 'scope_clarity_Medium', 'scope_clarity_Vague', 'urgency_level_High', 'urgency_level_Low', 'urgency_level_Medium', 'org_structure_type_Functional', 'org_structure_type_Matrix', 'org_structure_type_Projectized', 'client_priority_Cost', 'client_priority_Quality', 'client_priority_Time', 'team_sdlc_knowledge_High', 'team_sdlc_knowledge_Low', 'team_sdlc_knowledge_Medium', 'user_involvement_High', 'user_involvement_Low', 'user_involvement_Medium', 'tool_familiarity_High', 'tool_familiarity_Low', 'tool_familiarity_Medium', 'tech_stack_familiarity_High', 'tech_stack_familiarity_Low', 'tech_stack_familiarity_Medium', 'testing_strategy_Automated', 'testing_strategy_Manual', 'testing_strategy_Mixed', 'on_schedule_NO', 'on_schedule_YES', 'communication_quality_Average', 'communication_quality_Good', 'communication_quality_Poor', 'risk_management_score_High', 'risk_management_score_Low', 'risk_management_score_Medium', 'control_mechanism_Moderate', 'control_mechanism_Strong', 'control_mechanism_Weak']\n"
     ]
    }
   ],
   "source": [
    "print(\"Original shape:\", X.shape)\n",
    "print(\"Encoded shape:\", X_encoded.shape)\n",
    "print(\"Encoded feature columns:\", X_encoded.columns.tolist())"
   ]
  },
  {
   "cell_type": "markdown",
   "id": "0731153e",
   "metadata": {},
   "source": [
    "Train/Test Split + Model Training"
   ]
  },
  {
   "cell_type": "code",
   "execution_count": 65,
   "id": "fe8339d6",
   "metadata": {},
   "outputs": [],
   "source": [
    "# 1. Split the data\n",
    "X_train, X_test, y_train, y_test = train_test_split(X_encoded, y, test_size=0.2, random_state=42)"
   ]
  },
  {
   "cell_type": "code",
   "execution_count": 66,
   "id": "230c2099",
   "metadata": {},
   "outputs": [
    {
     "name": "stdout",
     "output_type": "stream",
     "text": [
      "Fitting 5 folds for each of 25 candidates, totalling 125 fits\n",
      "✅ Best Parameters:\n",
      "{'n_estimators': 200, 'min_samples_split': 10, 'min_samples_leaf': 1, 'max_features': 'sqrt', 'max_depth': None}\n"
     ]
    }
   ],
   "source": [
    "# Define the parameter grid\n",
    "param_dist = {\n",
    "    'n_estimators': [100, 200, 300, 500],\n",
    "    'max_depth': [None, 10, 20, 30, 40],\n",
    "    'min_samples_split': [2, 5, 10],\n",
    "    'min_samples_leaf': [1, 2, 4],\n",
    "    'max_features': ['sqrt', 'log2']\n",
    "}\n",
    "\n",
    "# Initialize model\n",
    "rf = RandomForestRegressor(random_state=42)\n",
    "\n",
    "# Randomized search\n",
    "random_search = RandomizedSearchCV(\n",
    "    estimator=rf,\n",
    "    param_distributions=param_dist,\n",
    "    n_iter=25,  # Number of combinations to try\n",
    "    cv=5,\n",
    "    verbose=2,\n",
    "    n_jobs=-1,\n",
    "    scoring='neg_mean_squared_error'\n",
    ")\n",
    "\n",
    "# Fit the model\n",
    "random_search.fit(X_train, y_train)\n",
    "\n",
    "# Best model\n",
    "best_rf = random_search.best_estimator_\n",
    "\n",
    "print(\"✅ Best Parameters:\")\n",
    "print(random_search.best_params_)"
   ]
  },
  {
   "cell_type": "code",
   "execution_count": 67,
   "id": "7e1cbe6e",
   "metadata": {},
   "outputs": [],
   "source": [
    "# 3. Make predictions on the test set\n",
    "y_pred = random_search.predict(X_test)"
   ]
  },
  {
   "cell_type": "code",
   "execution_count": 68,
   "id": "6a6f5382",
   "metadata": {},
   "outputs": [],
   "source": [
    "# 4. Evaluate the model\n",
    "mse = mean_squared_error(y_test, y_pred)\n",
    "mae = mean_absolute_error(y_test, y_pred)\n",
    "r2 = r2_score(y_test, y_pred)"
   ]
  },
  {
   "cell_type": "code",
   "execution_count": 69,
   "id": "c9ca0d6f",
   "metadata": {},
   "outputs": [
    {
     "name": "stdout",
     "output_type": "stream",
     "text": [
      "📊 Model Evaluation:\n",
      "Mean Absolute Error (MAE): 0.3022\n",
      "Mean Squared Error (MSE): 0.1104\n",
      "R² Score: -0.0427\n"
     ]
    }
   ],
   "source": [
    "print(\"📊 Model Evaluation:\")\n",
    "print(f\"Mean Absolute Error (MAE): {mae:.4f}\")\n",
    "print(f\"Mean Squared Error (MSE): {mse:.4f}\")\n",
    "print(f\"R² Score: {r2:.4f}\")"
   ]
  },
  {
   "cell_type": "markdown",
   "id": "9b51e055",
   "metadata": {},
   "source": [
    "Save the Tuned Model"
   ]
  },
  {
   "cell_type": "code",
   "execution_count": 71,
   "id": "ad626af6",
   "metadata": {},
   "outputs": [
    {
     "name": "stdout",
     "output_type": "stream",
     "text": [
      "✅ Model saved as 'model.pkl'\n"
     ]
    }
   ],
   "source": [
    "import joblib\n",
    "\n",
    "# Save the trained (tuned) model\n",
    "joblib.dump(best_rf, \"model.pkl\")\n",
    "\n",
    "print(\"✅ Model saved as 'model.pkl'\")"
   ]
  },
  {
   "cell_type": "code",
   "execution_count": null,
   "id": "f8e35048",
   "metadata": {},
   "outputs": [],
   "source": []
  }
 ],
 "metadata": {
  "kernelspec": {
   "display_name": "base",
   "language": "python",
   "name": "python3"
  },
  "language_info": {
   "codemirror_mode": {
    "name": "ipython",
    "version": 3
   },
   "file_extension": ".py",
   "mimetype": "text/x-python",
   "name": "python",
   "nbconvert_exporter": "python",
   "pygments_lexer": "ipython3",
   "version": "3.12.4"
  }
 },
 "nbformat": 4,
 "nbformat_minor": 5
}
